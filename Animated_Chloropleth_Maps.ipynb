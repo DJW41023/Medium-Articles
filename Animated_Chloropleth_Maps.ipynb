{
  "nbformat": 4,
  "nbformat_minor": 0,
  "metadata": {
    "colab": {
      "name": "Animated Chloropleth Maps.ipynb",
      "provenance": [],
      "collapsed_sections": []
    },
    "kernelspec": {
      "name": "python3",
      "display_name": "Python 3"
    }
  },
  "cells": [
    {
      "cell_type": "code",
      "metadata": {
        "id": "uSAgYHQMYghA",
        "colab_type": "code",
        "colab": {}
      },
      "source": [
        "# if working from command line:\n",
        "!conda install -c conda-forge cartopy\n",
        "# if working from a shell such as Google Colabatory:\n",
        "!apt-get -qq install python-cartopy python3-cartopy\n",
        "!pip uninstall shapely -y\n",
        "!pip install shapely --no-binary shapely"
      ],
      "execution_count": null,
      "outputs": []
    },
    {
      "cell_type": "code",
      "metadata": {
        "id": "9Mu98qsqYtPD",
        "colab_type": "code",
        "colab": {}
      },
      "source": [
        "'''Import Packages'''\n",
        "# data wrangling:\n",
        "import pandas as pd\n",
        "from math import log, exp\n",
        "from datetime import datetime as dt, timedelta\n",
        "\n",
        "# data visualisation:\n",
        "import matplotlib.pyplot as plt\n",
        "import matplotlib as mpl\n",
        "from matplotlib import colors\n",
        "import matplotlib.animation as animation\n",
        "import cartopy.crs as ccrs\n",
        "import cartopy.io.shapereader as shpreader\n",
        "\n",
        "# define the working directory:\n",
        "from google.colab import drive\n",
        "drive.mount('/content/drive' , force_remount=True)\n",
        "root_dir = '/content/drive/My Drive/'"
      ],
      "execution_count": null,
      "outputs": []
    },
    {
      "cell_type": "code",
      "metadata": {
        "id": "1iU3Vl3sYxpn",
        "colab_type": "code",
        "colab": {}
      },
      "source": [
        "'''Import Dataset'''\n",
        "# Read 'Oil-Gas-Data.csv' from Github, infer the header from the first row of data, parse the column 'Week' as dates:\n",
        "Dataset = pd.read_csv('https://raw.githubusercontent.com/David-Woroniuk/Medium-Articles/master/O%26G%20Data.csv',\n",
        "                      header='infer',parse_dates=['Week'])\n",
        "\n",
        "# Display the first 10 observations:\n",
        "Dataset.head(10)"
      ],
      "execution_count": null,
      "outputs": []
    },
    {
      "cell_type": "code",
      "metadata": {
        "id": "RyExt6ctY0HS",
        "colab_type": "code",
        "colab": {}
      },
      "source": [
        "'''setup colorbar'''\n",
        "\n",
        "# normalise colours between the minimum and maximum of the dataset:\n",
        "norm = mpl.colors.Normalize(vmin=(Dataset['Value'].min()), vmax=(Dataset['Value'].max()))\n",
        "# set an empty list called colors_in_map:\n",
        "colors_in_map = []\n",
        "\n",
        "# set a log base:\n",
        "logbase = exp(1)\n",
        "# set the variable 'color_max', which is based on the maximal value of the Dataset:\n",
        "color_max = (Dataset['Value'].max()+1) \n",
        "\n",
        "# for values between 0 and 30:\n",
        "for i in range(30):\n",
        "    #     val = (log(i+1)/log(maximal dataset value):\n",
        "    val = log(i + 1, logbase) / log(color_max, logbase)\n",
        "    #     append the output to the empty list 'colors_in_map':\n",
        "    colors_in_map.append((1 - val, val, 0))\n",
        "# set the colormap equal to the colors listed within our list:\n",
        "cmap = colors.ListedColormap(colors_in_map)"
      ],
      "execution_count": 15,
      "outputs": []
    },
    {
      "cell_type": "code",
      "metadata": {
        "id": "TWfwQ_2LY21c",
        "colab_type": "code",
        "colab": {}
      },
      "source": [
        "'''setup shapefile'''\n",
        "# we use the natural_earth dataset with a resolution of 1:110, using the map corresponding to the lower 48 states:\n",
        "shpfilename = shpreader.natural_earth(resolution='110m',\n",
        "                                      category='cultural',\n",
        "                                      name='admin_1_states_provinces_lakes_shp')\n",
        "# Interface to access the contents of a shapefile:\n",
        "reader = shpreader.Reader(shpfilename)\n",
        "states_map = reader.records()\n",
        "\n",
        "# Initialise the facecolor and edgecolor, facecolor is overwritten within 'run' function:\n",
        "facecolor = 'gray'\n",
        "edgecolor = 'black'\n",
        "\n",
        "# plot a figure:\n",
        "fig = plt.figure()\n",
        "\n",
        "# use the LambertConformal projection:\n",
        "ax = fig.add_axes([0, 0, 1, 1], projection=ccrs.LambertConformal())\n",
        "\n",
        "# set an axis extent, how large the plot should be:\n",
        "ax.set_extent([-125, -66.5, 20, 50], ccrs.Geodetic())\n",
        "\n",
        "# remove the background patch and outline patch of the plot:\n",
        "ax.background_patch.set_visible(False)\n",
        "ax.outline_patch.set_visible(False)"
      ],
      "execution_count": null,
      "outputs": []
    },
    {
      "cell_type": "code",
      "metadata": {
        "id": "YQxh5TmfY5Mr",
        "colab_type": "code",
        "colab": {}
      },
      "source": [
        "'''Define init_run Function'''\n",
        "                                  \n",
        "# set an emty dictionary called geom_dict:\n",
        "geom_dict = {}\n",
        "\n",
        "# define the function init_run:\n",
        "def init_run():\n",
        "    for n, states in enumerate(states_map):\n",
        "        #         Draw all states within our shapefile with a black state boundary, grey color:\n",
        "        ax.add_geometries(states.geometry, ccrs.PlateCarree(), facecolor=facecolor, edgecolor=edgecolor)\n",
        "        #         relate the state geometry and the 'name' attribute for each state, save this into geom_dict:\n",
        "        geom_dict[states.attributes['name']] = states.geometry"
      ],
      "execution_count": 17,
      "outputs": []
    },
    {
      "cell_type": "code",
      "metadata": {
        "id": "ptVqdEy3Y859",
        "colab_type": "code",
        "colab": {}
      },
      "source": [
        "'''Define the run function'''\n",
        "\n",
        "# define the run function:\n",
        "def run(data):\n",
        "    # this updates the week based on 'data' value, as our dataset is recorded every 7 days: \n",
        "    week = pd.to_datetime('01/08/2010') + timedelta(days=(data*7))\n",
        "    #     convert into the same format as our dataset:\n",
        "    week = week.strftime(\"%d-%m-%Y\")\n",
        "\n",
        "    # get the observation from our Dataset, based on the current week: \n",
        "    new_df = Dataset[Dataset['Week'] == week]\n",
        "    \n",
        "    for i, row in new_df.iterrows():\n",
        "        # This loops over countries, gets the value and geometry and adds the new-colored shape:\n",
        "        geom = geom_dict[row['State']]\n",
        "        value = row['Value']\n",
        "        # This sets the colour scheme, and must be consistent with the color bar set above:\n",
        "        greenamount = (log(float(value) + 1, logbase) / log(color_max, logbase)) \n",
        "        # Set the state/shape color:\n",
        "        facecolor = 1 - greenamount, greenamount, 0\n",
        "        # add the geometry to the axis using the facecolor and the black outline set outside the function:\n",
        "        ax.add_geometries(geom, ccrs.PlateCarree(),facecolor=facecolor, edgecolor=edgecolor)\n",
        "    \n",
        "    # Update the chart title dependent on the week:\n",
        "    ax.set_title('US Oil & Gas Drilling Activity ' + str(week))"
      ],
      "execution_count": 18,
      "outputs": []
    },
    {
      "cell_type": "code",
      "metadata": {
        "id": "Sdgb0XgMY_hL",
        "colab_type": "code",
        "colab": {}
      },
      "source": [
        "'''Additional Axes & Colorbar'''\n",
        "# Add an axis to the figure:\n",
        "cax = fig.add_axes([0.92, 0.2, 0.02, 0.6])\n",
        "# add the colorbar which we defined earlier:\n",
        "cb = mpl.colorbar.ColorbarBase(cax, cmap=cmap, norm=norm,spacing='proportional')\n",
        "# and provide a label:\n",
        "cb.set_label('Active Rigs')"
      ],
      "execution_count": 19,
      "outputs": []
    },
    {
      "cell_type": "code",
      "metadata": {
        "id": "E3V-etGMZCDD",
        "colab_type": "code",
        "colab": {}
      },
      "source": [
        "'''Animation'''\n",
        "# use matplotlib to animate the figure, passing the arguments - \n",
        "# the figure, initialisation function, number of frames, interval between frames (ms) and blit (overwriting):\n",
        "ani = animation.FuncAnimation(fig, run, init_func=init_run, frames=534, interval=15, blit=False)\n",
        "\n",
        "# use the ffmpeg writer:\n",
        "Writer = animation.writers['ffmpeg']\n",
        "\n",
        "# set the animation to have 5 frames per second, with a bitrate of 1800:\n",
        "writer = Writer(fps=5, metadata=dict(artist='Me'), bitrate=1800)\n",
        "\n",
        "# save the animation as an mp4 file within root_dir:\n",
        "ani.save(root_dir +'Drilling Rigs.mp4', writer=writer)\n",
        "\n",
        "# display the figure:\n",
        "plt.show()"
      ],
      "execution_count": null,
      "outputs": []
    }
  ]
}