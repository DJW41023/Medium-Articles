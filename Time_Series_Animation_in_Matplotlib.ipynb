{
  "nbformat": 4,
  "nbformat_minor": 0,
  "metadata": {
    "colab": {
      "name": "Time-Series Animation in Matplotlib.ipynb",
      "provenance": [],
      "collapsed_sections": []
    },
    "kernelspec": {
      "name": "python3",
      "display_name": "Python 3"
    }
  },
  "cells": [
    {
      "cell_type": "code",
      "metadata": {
        "id": "u7i9O65fWidU",
        "colab_type": "code",
        "colab": {}
      },
      "source": [
        "# pip install Quandl - we shall use Quandl to download the Data:\n",
        "!pip install quandl\n",
        "# now import the Quandl package:\n",
        "import quandl\n",
        "# set an output directory for the animation and chart:\n",
        "root_dir = '/content/drive/My Drive/'\n",
        "# provide Quandl with an API Key:\n",
        "quandl.ApiConfig.api_key = 'YOUR API KEY HERE'"
      ],
      "execution_count": null,
      "outputs": []
    },
    {
      "cell_type": "code",
      "metadata": {
        "id": "ba6xwqoQWjfZ",
        "colab_type": "code",
        "colab": {}
      },
      "source": [
        "# import datetime to help define sample period:\n",
        "import datetime as dt\n",
        "# import pandas for data wrangling:\n",
        "import pandas as pd\n",
        "# import matplotlib, pyplot and animation for plotting and animating:\n",
        "import matplotlib\n",
        "import matplotlib.pyplot as plt\n",
        "import matplotlib.animation as animation\n",
        "\n",
        "# define the animation embed limit for matplotlib:\n",
        "matplotlib.rcParams['animation.embed_limit'] = 200**128"
      ],
      "execution_count": 3,
      "outputs": []
    },
    {
      "cell_type": "code",
      "metadata": {
        "id": "IzZQKdZlWnMc",
        "colab_type": "code",
        "colab": {}
      },
      "source": [
        "# Find today's date & set delta to 712 days ago:\n",
        "today = dt.date.today()\n",
        "delta = dt.timedelta(days = 712)\n",
        "\n",
        "# Set the end of the sample period to today, start of the sample period to 712 days ago:\n",
        "end_of_sample = today\n",
        "start_of_sample = (today - delta)\n",
        "\n",
        "# Change the data format from a 'datetime' element to a string which can be read by Quandl's API:\n",
        "end_of_sample = end_of_sample.isoformat()\n",
        "start_of_sample = start_of_sample.isoformat()"
      ],
      "execution_count": 4,
      "outputs": []
    },
    {
      "cell_type": "code",
      "metadata": {
        "id": "BXV2JghpWrOK",
        "colab_type": "code",
        "colab": {}
      },
      "source": [
        "# Set an empty pandas DataFrame using the defined sample period as index, select 'B' for business days:\n",
        "Dataframe = pd.DataFrame(index=pd.date_range(start=start_of_sample,end=end_of_sample,freq = 'B'))\n",
        "# Call the Quandl API for Henry Hub price data for the sample period:\n",
        "henry_hub_price_data = quandl.get('CHRIS/CME_NG1', start_date= start_of_sample, end_date= end_of_sample, paginate=True)\n",
        "# Call the Quandl API for TTF price data for the sample period:\n",
        "ttf_price_data = quandl.get(\"CHRIS/ICE_TFM1\", start_date= start_of_sample, end_date= end_of_sample, paginate=True)\n",
        "# Call the Quandl API for €/$ price data for the sample period:\n",
        "euro_dollar = quandl.get(\"ECB/EURUSD\", start_date= start_of_sample, end_date= end_of_sample, paginate=True )\n",
        "# transform the ttf data from €/MWh to $/MMBTu, using the conversion rate of 1MWh : 3.4121MMBTu:\n",
        "ttf_dollar_mmbtu = round(((euro_dollar['Value'] * ttf_price_data['Settle'])/3.4121),3)\n",
        "# Concatenate the Settlement price at Henry Hub and the dollar transformed TTF Settlement price to Dataframe:\n",
        "Dataframe = pd.concat([Dataframe,henry_hub_price_data['Settle'],ttf_dollar_mmbtu],axis=1)\n",
        "# Rename the columns of Dataframe:\n",
        "Dataframe.columns = ['Henry Hub Continuous Futures','TTF Continuous Futures']\n",
        "# Remove any na values by row:\n",
        "Dataframe = Dataframe.dropna(axis=0, how='any')"
      ],
      "execution_count": 5,
      "outputs": []
    },
    {
      "cell_type": "code",
      "metadata": {
        "id": "COkrhF04Wt8f",
        "colab_type": "code",
        "colab": {}
      },
      "source": [
        "# Set the notebook to display matplotlib charts inline:\n",
        "%matplotlib inline\n",
        "# set a figure of size (15,5):\n",
        "fig = plt.figure(figsize = (15,5))\n",
        "# add limits on the x axis defined by the sample period (0 is the first observation, -1 the final observation):\n",
        "plt.xlim(Dataframe.index[0],Dataframe.index[-1])\n",
        "# add limits on the y-axis defined by minimum and maximum of the respective series, incorporate some additional room:\n",
        "plt.ylim((Dataframe['Henry Hub Continuous Futures'].min()-0.1), (Dataframe['TTF Continuous Futures'].max()+0.1))\n",
        "# plot the Henry Hub values with a dashed blue line, width 2:\n",
        "plt.plot(Dataframe['Henry Hub Continuous Futures'], data= Dataframe, marker='', color='blue', linewidth = 2, linestyle = 'dashed')\n",
        "# plot the TTF values with a red line, width 2:\n",
        "plt.plot(Dataframe['TTF Continuous Futures'], data= Dataframe, marker='', color='red', linewidth=2)\n",
        "# set the plot title:\n",
        "plt.title('Henry Hub Continuous Futures & TTF Continuous Futures', fontsize=14)\n",
        "# set the x-axis label:\n",
        "plt.xlabel('Time',fontsize=10)\n",
        "# set the y-axis label:\n",
        "plt.ylabel('Price ($/MMBtu)',fontsize=10)\n",
        "# add a legend to the plot:\n",
        "plt.legend()\n",
        "# save the output to the pre-defined output directory:\n",
        "plt.savefig(root_dir + 'Henry Hub vs TTF.png')\n",
        "# show the chart:\n",
        "plt.show();"
      ],
      "execution_count": null,
      "outputs": []
    },
    {
      "cell_type": "code",
      "metadata": {
        "id": "Kao4Ge7dWw8N",
        "colab_type": "code",
        "colab": {}
      },
      "source": [
        "# set a figure of size (10,6):\n",
        "fig = plt.figure(figsize=(10,6))\n",
        "# set subplot grid parameters (1x1 grid, 1st subplot):\n",
        "ax1 = fig.add_subplot(1,1,1)\n",
        "# add limits on the x axis defined by the sample period (0 is the first observation, -1 the final observation):\n",
        "ax1.axis(xmin = Dataframe.index[0], xmax = Dataframe.index[-1])\n",
        "# add limits on the y-axis defined by minimum and maximum of the respective series, incorporate some additional room:\n",
        "ax1.axis(ymin= (Dataframe['Henry Hub Continuous Futures'].min()-0.1),ymax=(Dataframe['TTF Continuous Futures'].max()+0.1))"
      ],
      "execution_count": null,
      "outputs": []
    },
    {
      "cell_type": "code",
      "metadata": {
        "id": "jrd9BRWWW0Rv",
        "colab_type": "code",
        "colab": {}
      },
      "source": [
        "# define the function animate, which has the input argument of i:\n",
        "def animate(i):\n",
        "#   set the variable data to contain 0 to the (i+1)th row:\n",
        "  data =  Dataframe.iloc[:int(i+1)]  #select data range\n",
        "  #   initialise xp as an empty list:\n",
        "  xp = []\n",
        "  #   initialise yp as an empty list:\n",
        "  yp = []\n",
        "  #   initialise zp as an empty list:\n",
        "  zp = []\n",
        "  \n",
        "#   set the variable lines as equal to the variable data:\n",
        "  lines = data\n",
        "\n",
        "#   for a line in lines:\n",
        "  for line in lines:\n",
        "    #     x is equal to the index (time domain):\n",
        "    xp = data.index\n",
        "    #     y is equal to the 'Henry Hub Continuous Futures' column\n",
        "    yp = data['Henry Hub Continuous Futures']\n",
        "    #     z is equal to the 'TTF Continuous Futures' column\n",
        "    zp = data['TTF Continuous Futures']\n",
        "\n",
        "  #   clear ax(1):\n",
        "  ax1.clear()\n",
        "  \n",
        "  #   add a textbox in the top right corner (1, 0.9):\n",
        "  ax1.text(1, 0.9, 'by David Woroniuk', transform=ax1.transAxes, color='#777777', ha='right',\n",
        "            bbox=dict(facecolor='white', alpha=0.1, edgecolor='white'))\n",
        "  #   plot Henry Hub Continual Futures:\n",
        "  ax1.plot(xp, yp)\n",
        "  #   plot TTF Continual Futures:   \n",
        "  ax1.plot(xp, zp)\n",
        "\n",
        "  #   provide a label for the x-axis:\n",
        "  plt.xlabel('Time',fontsize=12)\n",
        "  #   provide a label for the y-axis:  \n",
        "  plt.ylabel('Price $/MMBtu',fontsize=12)\n",
        "  #   provide a plot title:   \n",
        "  plt.title('Henry Hub vs TTF Futures',fontsize=14)"
      ],
      "execution_count": 8,
      "outputs": []
    },
    {
      "cell_type": "code",
      "metadata": {
        "id": "BN7J04X5W2gN",
        "colab_type": "code",
        "colab": {}
      },
      "source": [
        "# call Matplotlib animation.Funcanimation, providing the input arguments of fig, animate, the number of frames and an interval:\n",
        "ani = animation.FuncAnimation(fig, animate, frames = len(Dataframe), interval=10) \n",
        "\n",
        "# Use the 'ffmpeg' writer:\n",
        "Writer = animation.writers['ffmpeg']\n",
        "# Set the frames per second and bitrate of the video:\n",
        "writer = Writer(fps=15, metadata=dict(artist='Me'), bitrate=1800)\n",
        "# save the animation to the predefined output directory:\n",
        "ani.save(root_dir +'animation_video.mp4', writer=writer)"
      ],
      "execution_count": null,
      "outputs": []
    }
  ]
}